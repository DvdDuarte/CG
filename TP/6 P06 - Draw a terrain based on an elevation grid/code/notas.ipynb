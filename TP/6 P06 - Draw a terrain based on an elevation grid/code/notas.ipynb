{
 "cells": [
  {
   "cell_type": "markdown",
   "metadata": {},
   "source": [
    "width - horizontal height - vertical\n",
    "|5|10|25|30|\n",
    "|-|-|-|-|\n",
    "|45|10|50|30|     \n",
    "\n",
    "Data = {5,10,25,30,45,10,50,...}"
   ]
  }
 ],
 "metadata": {
  "language_info": {
   "name": "python"
  },
  "orig_nbformat": 4
 },
 "nbformat": 4,
 "nbformat_minor": 2
}
